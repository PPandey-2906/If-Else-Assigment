{
 "cells": [
  {
   "cell_type": "code",
   "execution_count": 19,
   "id": "9d1032af-44db-48b5-b149-f037eeaa3c4a",
   "metadata": {},
   "outputs": [
    {
     "name": "stdin",
     "output_type": "stream",
     "text": [
      "enter the units 695\n"
     ]
    },
    {
     "name": "stdout",
     "output_type": "stream",
     "text": [
      "total electric bill is Rs 5450\n"
     ]
    }
   ],
   "source": [
    "#Program to calculate the electricity bill using if statement (accept number of  unit from user).\n",
    "\n",
    "units = int(input(\"enter the units\"))\n",
    "\n",
    "if units <= 100:\n",
    "    electricbill = 0\n",
    "if units > 100  and units <= 200:\n",
    "    electricbill = (units - 100)* 5\n",
    "if units > 200:\n",
    "    electricbill = (100 * 5) + (units - 200)*10\n",
    "\n",
    "print(\"total electric bill is Rs\",electricbill)"
   ]
  },
  {
   "cell_type": "code",
   "execution_count": 16,
   "id": "bf4990e4-179e-4706-86f1-9066ecb68de8",
   "metadata": {},
   "outputs": [
    {
     "name": "stdin",
     "output_type": "stream",
     "text": [
      "enter the percentage 65\n"
     ]
    },
    {
     "name": "stdout",
     "output_type": "stream",
     "text": [
      "grade C\n"
     ]
    }
   ],
   "source": [
    "#Program to accept percentage from the user & desplay the grade.\n",
    "\n",
    "percentage = int(input(\"enter the percentage\"))\n",
    "\n",
    "if percentage > 90:\n",
    "  grade = \"A\"\n",
    "elif percentage > 80 and  percentage <= 90:\n",
    "    grade = \"B\"\n",
    "elif percentage >= 60 and percentage <= 80:\n",
    "    grade = \"C\"\n",
    "else:\n",
    "    grade = \"D\"\n",
    "print(\"grade\",grade)"
   ]
  },
  {
   "cell_type": "code",
   "execution_count": 34,
   "id": "56729a09-0a21-4ae1-b895-92eb89cdab84",
   "metadata": {},
   "outputs": [
    {
     "name": "stdin",
     "output_type": "stream",
     "text": [
      "enter the age1  95\n",
      "enter the age2  65\n",
      "enter the age3  87\n",
      "enter the age4  10\n"
     ]
    },
    {
     "name": "stdout",
     "output_type": "stream",
     "text": [
      "youngest age 10\n"
     ]
    }
   ],
   "source": [
    "#Accept the age of 4 people & display the youngest one.\n",
    "\n",
    "age1 = int(input(\"enter the age1 \"))\n",
    "age2 = int(input(\"enter the age2 \"))\n",
    "age3 = int(input(\"enter the age3 \"))\n",
    "age4 = int(input(\"enter the age4 \"))\n",
    "\n",
    "youngest = age2\n",
    "if age1 < age2:\n",
    "    youngest = age1\n",
    "if age3 < age2:\n",
    "    youngest = age3\n",
    "if age4 < age2:\n",
    "    youngest = age4\n",
    "print(\"youngest age\",youngest)\n",
    "\n",
    "           "
   ]
  },
  {
   "cell_type": "code",
   "execution_count": 32,
   "id": "b3f92ad7-30ec-4545-a7ad-9c53f6ad6542",
   "metadata": {},
   "outputs": [
    {
     "name": "stdin",
     "output_type": "stream",
     "text": [
      "enter the salary 40000\n",
      "enter the service year 25\n"
     ]
    },
    {
     "name": "stdout",
     "output_type": "stream",
     "text": [
      "net bonus 10%\n"
     ]
    }
   ],
   "source": [
    "#Ask user for their salary & year of service and print the net bonus amount.\n",
    "\n",
    "salary = int(input (\"enter the salary\"))\n",
    "service_year = int(input (\"enter the service year\"))\n",
    "\n",
    "if service_year > 10:\n",
    "    bonus = \"10%\"\n",
    "if service_year >= 6 and service_year <= 10:\n",
    "    bonus = \"8%\"\n",
    "if service_year < 6:\n",
    "    bonus = \"5%\"\n",
    "print(\"net bonus\",bonus)\n",
    "\n",
    "\n"
   ]
  },
  {
   "cell_type": "code",
   "execution_count": 52,
   "id": "fd6c6a5a-8b40-4b11-8b12-b9a01a80f175",
   "metadata": {},
   "outputs": [
    {
     "name": "stdin",
     "output_type": "stream",
     "text": [
      "enter the no 1 250\n",
      "enter the no 2 200\n",
      "enter the no 3 300\n"
     ]
    },
    {
     "name": "stdout",
     "output_type": "stream",
     "text": [
      "second largest number 250\n"
     ]
    }
   ],
   "source": [
    "#Program to accept three number from user and display the second largest number.\n",
    "\n",
    "number1 = int(input(\"enter the no 1\"))\n",
    "number2 = int(input(\"enter the no 2\"))\n",
    "number3 = int(input(\"enter the no 3\"))\n",
    "\n",
    "if number1 > number2 and number1 < number3:\n",
    "   second_largest = number1\n",
    "if number2 > number3 and number2 < number1:\n",
    "   second_largest = number2\n",
    "if number3 > number1 and number3 < number2:\n",
    "   second_largest = number3\n",
    "print(\"second largest number\",second_largest)\n",
    "\n",
    "\n",
    "\n",
    "                \n",
    "              "
   ]
  },
  {
   "cell_type": "code",
   "execution_count": 43,
   "id": "9bb66b07-74ec-45c9-b338-fc6af67321f9",
   "metadata": {},
   "outputs": [
    {
     "name": "stdin",
     "output_type": "stream",
     "text": [
      "enter the price 4000\n"
     ]
    },
    {
     "name": "stdout",
     "output_type": "stream",
     "text": [
      "net amount is Rs 3600.0\n"
     ]
    }
   ],
   "source": [
    "#Accept the market price from the user & calculate the net amount to pay.\n",
    "\n",
    "market_price = int(input(\"enter the price\"))\n",
    "\n",
    "if market_price > 10000:\n",
    "   discount  = 20/100\n",
    "if market_price > 7000 and market_price <= 10000:\n",
    "    discount = 15/100\n",
    "if market_price <= 7000:\n",
    "    discount = 10/100\n",
    "    \n",
    "\n",
    "discount_price = market_price * discount\n",
    "net_amount_price = market_price - discount_price\n",
    "\n",
    "print(\"net amount is Rs\",net_amount_price)"
   ]
  },
  {
   "cell_type": "code",
   "execution_count": 9,
   "id": "7262251c-9cea-4d7e-b940-cbd50e591a8a",
   "metadata": {},
   "outputs": [
    {
     "name": "stdin",
     "output_type": "stream",
     "text": [
      "enter the english marks 45\n",
      "enter the math marks 65\n",
      "enter the science marks 75\n",
      "enter the social studies marks 85\n"
     ]
    },
    {
     "name": "stdout",
     "output_type": "stream",
     "text": [
      "Stream allotted default\n"
     ]
    }
   ],
   "source": [
    "#Accept the marks of the subject & display the stream allotted.\n",
    "\n",
    "english = int(input(\"enter the english marks\"))\n",
    "math =  int(input(\"enter the math marks\"))\n",
    "science = int(input(\"enter the science marks\"))\n",
    "social_studies = int(input(\"enter the social studies marks\"))\n",
    "\n",
    "if english > 80 and math > 80 and science > 80 and social_studies > 80:\n",
    "  stream = \"science\"\n",
    "if english > 80 and math > 50 and science > 50:\n",
    "   stream = \"commerce\"\n",
    "if english > 80 and social_studies > 80:\n",
    "  stream = \"humanities\"\n",
    "else:\n",
    "     stream = \"default\"\n",
    "print(\"Stream allotted\",stream)\n"
   ]
  },
  {
   "cell_type": "code",
   "execution_count": 17,
   "id": "8616e8fb-f262-4475-a5ef-08a4efd962cb",
   "metadata": {},
   "outputs": [
    {
     "name": "stdin",
     "output_type": "stream",
     "text": [
      "Enter the number 444\n"
     ]
    },
    {
     "name": "stdout",
     "output_type": "stream",
     "text": [
      "Bye\n"
     ]
    }
   ],
   "source": [
    "#check whether the number is entered is multiple of five.\n",
    "\n",
    "number = int(input(\"Enter the number\"))\n",
    "\n",
    "if number % 5 == 0:\n",
    "    print(\"Hello\")\n",
    "else:\n",
    "    print(\"Bye\")"
   ]
  },
  {
   "cell_type": "code",
   "execution_count": 3,
   "id": "9c1b7a83-8001-4a1d-b0d5-96e4d7ba6320",
   "metadata": {},
   "outputs": [
    {
     "name": "stdin",
     "output_type": "stream",
     "text": [
      "Enter the number 25\n"
     ]
    },
    {
     "name": "stdout",
     "output_type": "stream",
     "text": [
      "last digit is not divisible by 3\n"
     ]
    }
   ],
   "source": [
    "#Program to check whether the last digit of number is divisible by 3 or not.\n",
    "\n",
    "number = int(input(\"Enter the number\"))\n",
    "last_digit = number % 10\n",
    "if last_digit % 3 == 0:\n",
    "    print(\"last digit is divisible by 3\")\n",
    "else:\n",
    "    print(\"last digit is not divisible by 3\")"
   ]
  },
  {
   "cell_type": "code",
   "execution_count": 13,
   "id": "7e6f91e6-e37a-46bb-8563-4aae5efb842c",
   "metadata": {},
   "outputs": [
    {
     "name": "stdin",
     "output_type": "stream",
     "text": [
      "Enter the number 1000\n"
     ]
    },
    {
     "name": "stdout",
     "output_type": "stream",
     "text": [
      "The number is not three digit\n"
     ]
    }
   ],
   "source": [
    "#check whether the number is three digit or not.\n",
    "\n",
    "number = int(input(\"Enter the number\"))\n",
    "\n",
    "if number >= 100 and number <= 999:\n",
    "    print(\"The number is three digit\")\n",
    "else:\n",
    "    print(\"The number is not three digit\")\n"
   ]
  },
  {
   "cell_type": "code",
   "execution_count": null,
   "id": "2c479ced-beba-466e-ad95-d9a7237f1596",
   "metadata": {},
   "outputs": [],
   "source": []
  }
 ],
 "metadata": {
  "kernelspec": {
   "display_name": "Python 3 (ipykernel)",
   "language": "python",
   "name": "python3"
  },
  "language_info": {
   "codemirror_mode": {
    "name": "ipython",
    "version": 3
   },
   "file_extension": ".py",
   "mimetype": "text/x-python",
   "name": "python",
   "nbconvert_exporter": "python",
   "pygments_lexer": "ipython3",
   "version": "3.12.4"
  }
 },
 "nbformat": 4,
 "nbformat_minor": 5
}
